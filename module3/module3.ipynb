{
 "cells": [
  {
   "cell_type": "markdown",
   "metadata": {},
   "source": [
    "## Model selection using evaluation metrics"
   ]
  },
  {
   "cell_type": "markdown",
   "metadata": {},
   "source": [
    "### Cross-validation example"
   ]
  },
  {
   "cell_type": "code",
   "execution_count": 2,
   "metadata": {},
   "outputs": [],
   "source": [
    "from sklearn.model_selection import cross_val_score\n",
    "from sklearn.svm import SVC\n",
    "from sklearn.datasets import load_digits\n",
    "dataset = load_digits()"
   ]
  },
  {
   "cell_type": "code",
   "execution_count": 6,
   "metadata": {},
   "outputs": [
    {
     "name": "stdout",
     "output_type": "stream",
     "text": [
      "Cross-validation (accuracy) [0.91944444 0.98611111 0.97214485 0.97493036 0.96935933]\n",
      "Cross-validation (AUC) [0.9641871  0.9976571  0.99372205 0.99699002 0.98675611]\n",
      "Cross-validaion (recall) [0.81081081 0.89189189 0.83333333 0.83333333 0.83333333]\n"
     ]
    }
   ],
   "source": [
    "X, y = dataset['data'], dataset['target'] == 1\n",
    "clf = SVC(kernel='linear', C=1)\n",
    "print('Cross-validation (accuracy)', cross_val_score(clf, X, y, cv=5))\n",
    "print('Cross-validation (AUC)', cross_val_score(clf, X, y, cv=5, scoring='roc_auc'))\n",
    "print('Cross-validaion (recall)', cross_val_score(clf, X, y, cv=5, scoring='recall'))"
   ]
  },
  {
   "cell_type": "markdown",
   "metadata": {},
   "source": [
    "### Grid search example"
   ]
  },
  {
   "cell_type": "code",
   "execution_count": 11,
   "metadata": {},
   "outputs": [
    {
     "name": "stdout",
     "output_type": "stream",
     "text": [
      "Grid best parameter (max. accuracy) {'gamma': 0.001}\n",
      "Grid best score () accuracy) 0.9962880475129918\n",
      "Test set AUC 0.99982858122393\n",
      "Grid best parameter (max.AUC) {'gamma': 0.001}\n",
      "Grid best score (auc) 0.9998741278302142\n"
     ]
    }
   ],
   "source": [
    "from sklearn.svm import SVC\n",
    "from sklearn.model_selection import GridSearchCV\n",
    "from sklearn.metrics import roc_auc_score\n",
    "from sklearn.model_selection import train_test_split\n",
    "dataset = load_digits()\n",
    "X, y = dataset['data'], dataset['target'] == 1\n",
    "X_train, X_test, y_train, y_test = train_test_split(X, y, random_state=0)\n",
    "clf = SVC(kernel='rbf')\n",
    "grid_values = {'gamma':[0.001, 0.01, 0.05,0.1,1,10,100]}\n",
    "\n",
    "grid_clf_auc = GridSearchCV(clf, param_grid=grid_values)\n",
    "grid_clf_auc.fit(X_train, y_train)\n",
    "y_decision_fn_scores_acc = grid_clf_auc.decision_function(X_test)\n",
    "\n",
    "print('Grid best parameter (max. accuracy)', grid_clf_auc.best_params_)\n",
    "print('Grid best score () accuracy)', grid_clf_auc.best_score_)\n",
    "\n",
    "grid_clf_auc = GridSearchCV(clf, param_grid=grid_values, scoring='roc_auc')\n",
    "grid_clf_auc.fit(X_train, y_train)\n",
    "\n",
    "y_decision_fn_score_auc = grid_clf_auc.decision_function(X_test)\n",
    "print('Test set AUC', roc_auc_score(y_test, y_decision_fn_score_auc))\n",
    "print('Grid best parameter (max.AUC)', grid_clf_auc.best_params_)\n",
    "print('Grid best score (auc)', grid_clf_auc.best_score_)"
   ]
  },
  {
   "cell_type": "markdown",
   "metadata": {},
   "source": [
    "### Evaluation metrics supported for model selection"
   ]
  },
  {
   "cell_type": "code",
   "execution_count": null,
   "metadata": {},
   "outputs": [],
   "source": []
  }
 ],
 "metadata": {
  "kernelspec": {
   "display_name": "Python 3",
   "language": "python",
   "name": "python3"
  },
  "language_info": {
   "codemirror_mode": {
    "name": "ipython",
    "version": 3
   },
   "file_extension": ".py",
   "mimetype": "text/x-python",
   "name": "python",
   "nbconvert_exporter": "python",
   "pygments_lexer": "ipython3",
   "version": "3.5.4"
  }
 },
 "nbformat": 4,
 "nbformat_minor": 2
}
